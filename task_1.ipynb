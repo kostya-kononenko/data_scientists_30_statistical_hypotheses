{
 "cells": [
  {
   "cell_type": "markdown",
   "source": [
    "Задача 1\n",
    "\n",
    "Середній частковий інтервал:\n",
    "\n",
    "| xi  | 12  | 36  | 60  | 84  | 108  | 132 | 156 | 180 | 204 |\n",
    "|:----|:----|:----|:----|:----|:-----|:----|:----|:----|:----|\n",
    "| ni  | 1   | 2   | 4   | 6   | 12   | 16  | 6   | 2   | 1   |\n",
    "\n",
    "H0 - вибірка має нормальний розподіл ознаки генеральної сукупності\n",
    "\n",
    "H1 - вибірка не має нормальний розподіл ознаки генеральної сукупності"
   ],
   "metadata": {
    "collapsed": false
   }
  },
  {
   "cell_type": "code",
   "execution_count": null,
   "outputs": [],
   "source": [
    "n = 50\n",
    "'''Середнє значення'''\n",
    "x_str = 1 / n * (12 * 1 + 36 * 2 + 60 * 4 + 84 * 6 + 108 * 12 + 132 * 16 + 156 * 6 + 180 * 2 + 204 * 1)\n",
    "d = (1 / n * (12 ** 2 * 1  + 36 ** 2 * 2 + 60 ** 2 * 4 + 84 ** 2 * 6 + 108 ** 2 * 12 + 132 ** 2 * 16 + 156 ** 2 * 6 + 180 ** 2 * 2 + 204 ** 2 * 1)) - x_str ** 2\n",
    "s = d ** 0.5\n",
    "s"
   ],
   "metadata": {
    "collapsed": false
   }
  },
  {
   "cell_type": "markdown",
   "source": [
    "| i   | Zi - 1; Zi  | Ф(Zi - 1)  | Ф(Zi)     | pi          | ni = 50pi |\n",
    "|:----|:------------|:-----------|:----------|:------------|:----------|\n",
    "| 1   | -∞; -2.38   | 0.5  \t     | -0.4913   | 0.0087      | 1         |\n",
    "| 2   | -2.38;-1.75 | -0.4913    | 0.4599    | 0.0314      | 2         |\n",
    "| 3   | -1.75;-1.12 | -0.4599    | -0.3686   | 0.0913      | 5         |\n",
    "| 4   | -1.12;-0.49 | -0.3686    | -0.1879   | 0.1807      | 9         |\n",
    "| 5   | -0.49; 0.14 | -0.1879  \t | 0.0557    | 0.2436      | 12        |\n",
    "| 6   | 0.14; 0.77  | 0.0557     | 0.2794    | 0.2237      | 11        |\n",
    "| 7   | 0.77; 1.40  | 0.2794     | 0.4192    | 0.1398      | 7         |\n",
    "| 8   | 1.40; 2.08  | 0.4192     | 0.4812    | 0.062       | 3         |\n",
    "| 9   | 2.08; +∞    | 0.4812     | 0.5       | 0.0188      | 1         |"
   ],
   "metadata": {
    "collapsed": false
   }
  },
  {
   "cell_type": "code",
   "execution_count": null,
   "outputs": [],
   "source": [
    "k_emp = (1 - 1) ** 2 / 1 + (2 - 2) ** 2 / 2 + (4 - 5) ** 2 / 5 + (6 - 9) ** 2 / 9 + (12 - 12) ** 2 / 12 + (16 - 11) ** 2 / 11 + (6 - 7) ** 2 / 7 + (2 - 3) ** 2 / 3 + (1 - 1) ** 2 / 1\n",
    "k_emp"
   ],
   "metadata": {
    "collapsed": false
   }
  },
  {
   "cell_type": "code",
   "execution_count": null,
   "outputs": [],
   "source": [
    "r = 9 - 2 - 1\n",
    "r"
   ],
   "metadata": {
    "collapsed": false
   }
  },
  {
   "cell_type": "code",
   "execution_count": null,
   "outputs": [],
   "source": [
    "k_kr = 16.8"
   ],
   "metadata": {
    "collapsed": false
   }
  },
  {
   "cell_type": "markdown",
   "source": [
    "Kемп < Kкр, тому ми приймаємо H0 - вибірка має нормальний розподіл ознаки генеральної сукупності"
   ],
   "metadata": {
    "collapsed": false
   }
  }
 ],
 "metadata": {
  "kernelspec": {
   "display_name": "Python 3",
   "language": "python",
   "name": "python3"
  },
  "language_info": {
   "codemirror_mode": {
    "name": "ipython",
    "version": 2
   },
   "file_extension": ".py",
   "mimetype": "text/x-python",
   "name": "python",
   "nbconvert_exporter": "python",
   "pygments_lexer": "ipython2",
   "version": "2.7.6"
  }
 },
 "nbformat": 4,
 "nbformat_minor": 0
}
