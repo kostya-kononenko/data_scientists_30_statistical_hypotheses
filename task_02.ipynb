{
 "cells": [
  {
   "cell_type": "markdown",
   "source": [
    "Задача 2"
   ],
   "metadata": {
    "collapsed": false
   }
  },
  {
   "cell_type": "markdown",
   "source": [
    "\n",
    "\n",
    "Відомо що P(X>=3) = 0.4, M(X) = 2\n",
    "\n",
    "Проміжок можливих значень рівномірно розподіленої випадкової величини є [a;b], тоді функція щільності розподілу має вигляд: f(x) = 0, якщо x < a f(x) = 1 / (b-a), якщо a < x <= b f(x) = 0, якщо x > b\n",
    "\n",
    "Формула математичного сподівання буде мати вигляд: M(X) = ∫ba x / (b-a) dx\n",
    "\n",
    "Визначимо проміжок (а;b) зміни випадкової величини склавши систему рівнянь\n",
    "\n",
    "∫b3 1 / (b-a) dx = 0.4 ∫ba x / (b-a) dx = 2\n",
    "\n",
    "x / (b-a) |b3 = 0.4 x2 / 2(b-a) |ba = 2\n",
    "\n",
    "(b-3) / (b-a) = 0.4 (b2 - a2) / 2(b-a) = 2\n",
    "\n",
    "(b-3) / (b-a) = 0.4 (b+a) / 2 = 2\n",
    "\n",
    "0.6b + 0.4a = 3 b = 4 - a\n",
    "\n",
    "a = -3 b = 7\n",
    "\n",
    "Отже, f(x) = 0, якщо x < -3 f(x) = 0.1, якщо -3 < x <= 7 f(x) = 0, якщо x > 7"
   ],
   "metadata": {
    "collapsed": false
   }
  }
 ],
 "metadata": {
  "kernelspec": {
   "display_name": "Python 3",
   "language": "python",
   "name": "python3"
  },
  "language_info": {
   "codemirror_mode": {
    "name": "ipython",
    "version": 2
   },
   "file_extension": ".py",
   "mimetype": "text/x-python",
   "name": "python",
   "nbconvert_exporter": "python",
   "pygments_lexer": "ipython2",
   "version": "2.7.6"
  }
 },
 "nbformat": 4,
 "nbformat_minor": 0
}
